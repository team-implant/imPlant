{
 "cells": [
  {
   "cell_type": "code",
   "execution_count": null,
   "id": "c3daeb30",
   "metadata": {},
   "outputs": [],
   "source": [
    "import matplotlib.pyplot as plt\n",
    "from ML.predictions.lightIntensity_linearRegression import run_light_intensity_regression\n",
    "\n",
    "model, X_test, y_test, y_pred, df = run_light_intensity_regression()\n",
    "\n",
    "plt.figure(figsize=(10, 6))\n",
    "plt.scatter(df[\"Timestamp\"], df[\"LightIntensity\"], label=\"Data\", alpha=0.5)\n",
    "plt.scatter(df.loc[X_test.index, \"Timestamp\"], y_pred, color=\"red\", label=\"Predictions\")\n",
    "plt.xlabel(\"Timestamp\")\n",
    "plt.ylabel(\"Light Intensity\")\n",
    "plt.title(\"Light Intensity Linear Regression\")\n",
    "plt.legend()\n",
    "plt.xticks(rotation=45)\n",
    "plt.tight_layout()\n",
    "plt.show()"
   ]
  }
 ],
 "metadata": {
  "kernelspec": {
   "display_name": ".venv",
   "language": "python",
   "name": "python3"
  },
  "language_info": {
   "name": "python",
   "version": "3.9.13"
  }
 },
 "nbformat": 4,
 "nbformat_minor": 5
}
