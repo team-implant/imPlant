{
 "cells": [
  {
   "cell_type": "code",
   "execution_count": null,
   "id": "d18a2673",
   "metadata": {
    "vscode": {
     "languageId": "plaintext"
    }
   },
   "outputs": [],
   "source": [
    "import sys\n",
    "import os\n",
    "\n",
    "ml_service_root = os.path.abspath(os.path.join(os.getcwd(), \"../../\"))\n",
    "sys.path.append(ml_service_root)\n",
    "\n",
    "import matplotlib.pyplot as plt\n",
    "from ML.models.WaterPump_models.waterPump_linearRegresion import run_water_pump_regression\n",
    "from ML.utills.jsonify import jsonify_predictions\n",
    "\n",
    "model, X_test, y_test, y_pred, df = run_water_pump_regression()\n",
    "\n",
    "json_output = jsonify_predictions(\n",
    "    df,\n",
    "    X_test.index,\n",
    "    y_pred,\n",
    "    id_col=\"Id\",\n",
    "    value_col=\"predictedWaterPumpOn\",\n",
    "    timestamp_col=\"Timestamp\",\n",
    "    output_value_name=\"predictedWaterPumpOn\",\n",
    ")\n",
    "print(json_output)\n",
    "\n",
    "plt.figure(figsize=(12, 6))\n",
    "plt.plot(df[\"Timestamp\"], df[\"WaterPumpOn\"], label=\"Actual (All)\", marker='o', alpha=0.5)\n",
    "plt.plot(df.loc[X_test.index, \"Timestamp\"], y_pred, label=\"Predicted (Test)\", marker='x')\n",
    "plt.xlabel(\"Timestamp\")\n",
    "plt.ylabel(\"Water Pump On (1=On, 0=Off)\")\n",
    "plt.title(\"Actual vs Predicted Water Pump State\")\n",
    "plt.legend()\n",
    "plt.xticks(rotation=45)\n",
    "plt.tight_layout()\n",
    "plt.show()"
   ]
  }
 ],
 "metadata": {
  "language_info": {
   "name": "python"
  }
 },
 "nbformat": 4,
 "nbformat_minor": 5
}
