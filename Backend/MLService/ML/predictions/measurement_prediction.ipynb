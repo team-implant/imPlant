{
 "cells": [
  {
   "cell_type": "code",
   "execution_count": null,
   "id": "551187d9",
   "metadata": {},
   "outputs": [
    {
     "ename": "ModuleNotFoundError",
     "evalue": "No module named 'ML.data.measurement_data'",
     "output_type": "error",
     "traceback": [
      "\u001b[1;31m---------------------------------------------------------------------------\u001b[0m",
      "\u001b[1;31mModuleNotFoundError\u001b[0m                       Traceback (most recent call last)",
      "Cell \u001b[1;32mIn[6], line 9\u001b[0m\n\u001b[0;32m      6\u001b[0m     sys\u001b[38;5;241m.\u001b[39mpath\u001b[38;5;241m.\u001b[39mappend(ml_service_root)\n\u001b[0;32m      8\u001b[0m \u001b[38;5;28;01mimport\u001b[39;00m\u001b[38;5;250m \u001b[39m\u001b[38;5;21;01mmatplotlib\u001b[39;00m\u001b[38;5;21;01m.\u001b[39;00m\u001b[38;5;21;01mpyplot\u001b[39;00m\u001b[38;5;250m \u001b[39m\u001b[38;5;28;01mas\u001b[39;00m\u001b[38;5;250m \u001b[39m\u001b[38;5;21;01mplt\u001b[39;00m\n\u001b[1;32m----> 9\u001b[0m \u001b[38;5;28;01mfrom\u001b[39;00m\u001b[38;5;250m \u001b[39m\u001b[38;5;21;01mML\u001b[39;00m\u001b[38;5;21;01m.\u001b[39;00m\u001b[38;5;21;01mmodels\u001b[39;00m\u001b[38;5;21;01m.\u001b[39;00m\u001b[38;5;21;01mMeasurment_models\u001b[39;00m\u001b[38;5;21;01m.\u001b[39;00m\u001b[38;5;21;01mmeasurment_randomForest\u001b[39;00m\u001b[38;5;250m \u001b[39m\u001b[38;5;28;01mimport\u001b[39;00m run_measurement_random_forest\n\u001b[0;32m     11\u001b[0m model, X_test, y_test, y_pred, df \u001b[38;5;241m=\u001b[39m run_measurement_random_forest()\n\u001b[0;32m     13\u001b[0m measurement_names \u001b[38;5;241m=\u001b[39m [\u001b[38;5;124m\"\u001b[39m\u001b[38;5;124mTemperature\u001b[39m\u001b[38;5;124m\"\u001b[39m, \u001b[38;5;124m\"\u001b[39m\u001b[38;5;124mAirHumidity\u001b[39m\u001b[38;5;124m\"\u001b[39m, \u001b[38;5;124m\"\u001b[39m\u001b[38;5;124mSoilHumidity\u001b[39m\u001b[38;5;124m\"\u001b[39m, \u001b[38;5;124m\"\u001b[39m\u001b[38;5;124mLightIntensity\u001b[39m\u001b[38;5;124m\"\u001b[39m]\n",
      "File \u001b[1;32mc:\\Users\\Karolina\\Documents\\GitHub\\imPlant\\Backend\\MLService\\ML\\models\\Measurment_models\\measurment_randomForest.py:6\u001b[0m\n\u001b[0;32m      4\u001b[0m \u001b[38;5;28;01mfrom\u001b[39;00m\u001b[38;5;250m \u001b[39m\u001b[38;5;21;01msklearn\u001b[39;00m\u001b[38;5;21;01m.\u001b[39;00m\u001b[38;5;21;01mmodel_selection\u001b[39;00m\u001b[38;5;250m \u001b[39m\u001b[38;5;28;01mimport\u001b[39;00m train_test_split\n\u001b[0;32m      5\u001b[0m \u001b[38;5;28;01mfrom\u001b[39;00m\u001b[38;5;250m \u001b[39m\u001b[38;5;21;01msklearn\u001b[39;00m\u001b[38;5;21;01m.\u001b[39;00m\u001b[38;5;21;01mmetrics\u001b[39;00m\u001b[38;5;250m \u001b[39m\u001b[38;5;28;01mimport\u001b[39;00m mean_squared_error\n\u001b[1;32m----> 6\u001b[0m \u001b[38;5;28;01mfrom\u001b[39;00m\u001b[38;5;250m \u001b[39m\u001b[38;5;21;01mML\u001b[39;00m\u001b[38;5;21;01m.\u001b[39;00m\u001b[38;5;21;01mdata\u001b[39;00m\u001b[38;5;21;01m.\u001b[39;00m\u001b[38;5;21;01mmeasurement_data\u001b[39;00m\u001b[38;5;250m \u001b[39m\u001b[38;5;28;01mimport\u001b[39;00m fetch_measurement_data\n\u001b[0;32m      8\u001b[0m \u001b[38;5;28;01mdef\u001b[39;00m\u001b[38;5;250m \u001b[39m\u001b[38;5;21mrun_measurement_random_forest\u001b[39m():\n\u001b[0;32m      9\u001b[0m     df \u001b[38;5;241m=\u001b[39m fetch_measurement_data()\n",
      "\u001b[1;31mModuleNotFoundError\u001b[0m: No module named 'ML.data.measurement_data'"
     ]
    }
   ],
   "source": [
    "import sys\n",
    "import os\n",
    "\n",
    "ml_service_root = os.path.abspath(os.path.join(os.getcwd(), \"../../\"))\n",
    "if ml_service_root not in sys.path:\n",
    "    sys.path.append(ml_service_root)\n",
    "\n",
    "import matplotlib.pyplot as plt\n",
    "from ML.models.Measurement_models.measurement_randomForest import run_measurement_random_forest\n",
    "\n",
    "model, X_test, y_test, y_pred, df = run_measurement_random_forest()\n",
    "\n",
    "measurement_names = [\"Temperature\", \"AirHumidity\", \"SoilHumidity\", \"LightIntensity\"]\n",
    "for i, name in enumerate(measurement_names):\n",
    "    plt.figure(figsize=(10, 4))\n",
    "    plt.scatter(df.loc[X_test.index, \"Timestamp\"], y_test.iloc[:, i], label=\"Actual\", alpha=0.5)\n",
    "    plt.scatter(df.loc[X_test.index, \"Timestamp\"], y_pred[:, i], color=\"green\", label=\"Predicted\")\n",
    "    plt.plot(df.loc[X_test.index, \"Timestamp\"].sort_values(), \n",
    "             y_pred[:, i][np.argsort(df.loc[X_test.index, \"Timestamp\"])], \n",
    "             color=\"green\", linewidth=1, alpha=0.7)\n",
    "    plt.xlabel(\"Timestamp\")\n",
    "    plt.ylabel(name)\n",
    "    plt.title(f\"{name} - Random Forest Prediction\")\n",
    "    plt.legend()\n",
    "    plt.xticks(rotation=45)\n",
    "    plt.tight_layout()\n",
    "    plt.show()"
   ]
  }
 ],
 "metadata": {
  "kernelspec": {
   "display_name": ".venv",
   "language": "python",
   "name": "python3"
  },
  "language_info": {
   "codemirror_mode": {
    "name": "ipython",
    "version": 3
   },
   "file_extension": ".py",
   "mimetype": "text/x-python",
   "name": "python",
   "nbconvert_exporter": "python",
   "pygments_lexer": "ipython3",
   "version": "3.9.13"
  }
 },
 "nbformat": 4,
 "nbformat_minor": 5
}
